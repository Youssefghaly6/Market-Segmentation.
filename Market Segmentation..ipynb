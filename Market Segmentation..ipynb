{
 "cells": [
  {
   "cell_type": "markdown",
   "id": "f3d1c7bb-a22a-452f-9e18-3c823c4b477b",
   "metadata": {},
   "source": [
    "## Intoduction"
   ]
  },
  {
   "cell_type": "markdown",
   "id": "96c5ff4a-aaab-45e8-a678-f7cb5216f157",
   "metadata": {},
   "source": [
    "#### Customer segmentation is a strategic marketing approach that categorizes a customer base into distinct groups based on common characteristics, behaviors, or demographics. The primary goal is to gain deeper insights into customer needs and deliver personalized, targeted solutions. By leveraging segmentation, businesses can effectively align their messaging to engage the right audience. \n",
    "\n",
    "#### Prior to implementing segmentation algorithms, conducting Exploratory Data Analysis (EDA) is an essential step to ensure a comprehensive understanding of the data and its underlying patterns."
   ]
  },
  {
   "cell_type": "markdown",
   "id": "bc702d2a-da70-49bb-87b0-e02ef6a4a3a6",
   "metadata": {},
   "source": [
    "## Data preparation and Cleaning "
   ]
  },
  {
   "cell_type": "raw",
   "id": "ec0b9881-97dc-4fa6-ab01-f5ba54cc2c7d",
   "metadata": {},
   "source": [
    ". Reviewing data columns \n",
    ". Looking for missing values \n",
    ". Checking columns type\n",
    ". Asseing unique value "
   ]
  },
  {
   "cell_type": "code",
   "execution_count": 292,
   "id": "913d3866-9da5-4d68-b05e-a49a5a8cf741",
   "metadata": {},
   "outputs": [],
   "source": [
    "# Importing necessary libraries \n",
    "import pandas as pd \n",
    "import numpy as np \n",
    "import seaborn as sns \n",
    "sns.set()\n",
    "import matplotlib.pyplot as plt \n",
    "from scipy.stats import pointbiserialr\n"
   ]
  },
  {
   "cell_type": "code",
   "execution_count": 293,
   "id": "25c1c6de-c15d-425c-9dd5-e45c3bc315ce",
   "metadata": {},
   "outputs": [
    {
     "data": {
      "text/html": [
       "<div>\n",
       "<style scoped>\n",
       "    .dataframe tbody tr th:only-of-type {\n",
       "        vertical-align: middle;\n",
       "    }\n",
       "\n",
       "    .dataframe tbody tr th {\n",
       "        vertical-align: top;\n",
       "    }\n",
       "\n",
       "    .dataframe thead th {\n",
       "        text-align: right;\n",
       "    }\n",
       "</style>\n",
       "<table border=\"1\" class=\"dataframe\">\n",
       "  <thead>\n",
       "    <tr style=\"text-align: right;\">\n",
       "      <th></th>\n",
       "      <th>Income</th>\n",
       "      <th>Kidhome</th>\n",
       "      <th>Teenhome</th>\n",
       "      <th>Recency</th>\n",
       "      <th>MntWines</th>\n",
       "      <th>MntFruits</th>\n",
       "      <th>MntMeatProducts</th>\n",
       "      <th>MntFishProducts</th>\n",
       "      <th>MntSweetProducts</th>\n",
       "      <th>MntGoldProds</th>\n",
       "      <th>...</th>\n",
       "      <th>marital_Together</th>\n",
       "      <th>marital_Widow</th>\n",
       "      <th>education_2n Cycle</th>\n",
       "      <th>education_Basic</th>\n",
       "      <th>education_Graduation</th>\n",
       "      <th>education_Master</th>\n",
       "      <th>education_PhD</th>\n",
       "      <th>MntTotal</th>\n",
       "      <th>MntRegularProds</th>\n",
       "      <th>AcceptedCmpOverall</th>\n",
       "    </tr>\n",
       "  </thead>\n",
       "  <tbody>\n",
       "    <tr>\n",
       "      <th>0</th>\n",
       "      <td>58138.0</td>\n",
       "      <td>0</td>\n",
       "      <td>0</td>\n",
       "      <td>58</td>\n",
       "      <td>635</td>\n",
       "      <td>88</td>\n",
       "      <td>546</td>\n",
       "      <td>172</td>\n",
       "      <td>88</td>\n",
       "      <td>88</td>\n",
       "      <td>...</td>\n",
       "      <td>0</td>\n",
       "      <td>0</td>\n",
       "      <td>0</td>\n",
       "      <td>0</td>\n",
       "      <td>1</td>\n",
       "      <td>0</td>\n",
       "      <td>0</td>\n",
       "      <td>1529</td>\n",
       "      <td>1441</td>\n",
       "      <td>0</td>\n",
       "    </tr>\n",
       "    <tr>\n",
       "      <th>1</th>\n",
       "      <td>46344.0</td>\n",
       "      <td>1</td>\n",
       "      <td>1</td>\n",
       "      <td>38</td>\n",
       "      <td>11</td>\n",
       "      <td>1</td>\n",
       "      <td>6</td>\n",
       "      <td>2</td>\n",
       "      <td>1</td>\n",
       "      <td>6</td>\n",
       "      <td>...</td>\n",
       "      <td>0</td>\n",
       "      <td>0</td>\n",
       "      <td>0</td>\n",
       "      <td>0</td>\n",
       "      <td>1</td>\n",
       "      <td>0</td>\n",
       "      <td>0</td>\n",
       "      <td>21</td>\n",
       "      <td>15</td>\n",
       "      <td>0</td>\n",
       "    </tr>\n",
       "    <tr>\n",
       "      <th>2</th>\n",
       "      <td>71613.0</td>\n",
       "      <td>0</td>\n",
       "      <td>0</td>\n",
       "      <td>26</td>\n",
       "      <td>426</td>\n",
       "      <td>49</td>\n",
       "      <td>127</td>\n",
       "      <td>111</td>\n",
       "      <td>21</td>\n",
       "      <td>42</td>\n",
       "      <td>...</td>\n",
       "      <td>1</td>\n",
       "      <td>0</td>\n",
       "      <td>0</td>\n",
       "      <td>0</td>\n",
       "      <td>1</td>\n",
       "      <td>0</td>\n",
       "      <td>0</td>\n",
       "      <td>734</td>\n",
       "      <td>692</td>\n",
       "      <td>0</td>\n",
       "    </tr>\n",
       "    <tr>\n",
       "      <th>3</th>\n",
       "      <td>26646.0</td>\n",
       "      <td>1</td>\n",
       "      <td>0</td>\n",
       "      <td>26</td>\n",
       "      <td>11</td>\n",
       "      <td>4</td>\n",
       "      <td>20</td>\n",
       "      <td>10</td>\n",
       "      <td>3</td>\n",
       "      <td>5</td>\n",
       "      <td>...</td>\n",
       "      <td>1</td>\n",
       "      <td>0</td>\n",
       "      <td>0</td>\n",
       "      <td>0</td>\n",
       "      <td>1</td>\n",
       "      <td>0</td>\n",
       "      <td>0</td>\n",
       "      <td>48</td>\n",
       "      <td>43</td>\n",
       "      <td>0</td>\n",
       "    </tr>\n",
       "    <tr>\n",
       "      <th>4</th>\n",
       "      <td>58293.0</td>\n",
       "      <td>1</td>\n",
       "      <td>0</td>\n",
       "      <td>94</td>\n",
       "      <td>173</td>\n",
       "      <td>43</td>\n",
       "      <td>118</td>\n",
       "      <td>46</td>\n",
       "      <td>27</td>\n",
       "      <td>15</td>\n",
       "      <td>...</td>\n",
       "      <td>0</td>\n",
       "      <td>0</td>\n",
       "      <td>0</td>\n",
       "      <td>0</td>\n",
       "      <td>0</td>\n",
       "      <td>0</td>\n",
       "      <td>1</td>\n",
       "      <td>407</td>\n",
       "      <td>392</td>\n",
       "      <td>0</td>\n",
       "    </tr>\n",
       "  </tbody>\n",
       "</table>\n",
       "<p>5 rows × 39 columns</p>\n",
       "</div>"
      ],
      "text/plain": [
       "    Income  Kidhome  Teenhome  Recency  MntWines  MntFruits  MntMeatProducts  \\\n",
       "0  58138.0        0         0       58       635         88              546   \n",
       "1  46344.0        1         1       38        11          1                6   \n",
       "2  71613.0        0         0       26       426         49              127   \n",
       "3  26646.0        1         0       26        11          4               20   \n",
       "4  58293.0        1         0       94       173         43              118   \n",
       "\n",
       "   MntFishProducts  MntSweetProducts  MntGoldProds  ...  marital_Together  \\\n",
       "0              172                88            88  ...                 0   \n",
       "1                2                 1             6  ...                 0   \n",
       "2              111                21            42  ...                 1   \n",
       "3               10                 3             5  ...                 1   \n",
       "4               46                27            15  ...                 0   \n",
       "\n",
       "   marital_Widow  education_2n Cycle  education_Basic  education_Graduation  \\\n",
       "0              0                   0                0                     1   \n",
       "1              0                   0                0                     1   \n",
       "2              0                   0                0                     1   \n",
       "3              0                   0                0                     1   \n",
       "4              0                   0                0                     0   \n",
       "\n",
       "   education_Master  education_PhD  MntTotal  MntRegularProds  \\\n",
       "0                 0              0      1529             1441   \n",
       "1                 0              0        21               15   \n",
       "2                 0              0       734              692   \n",
       "3                 0              0        48               43   \n",
       "4                 0              1       407              392   \n",
       "\n",
       "   AcceptedCmpOverall  \n",
       "0                   0  \n",
       "1                   0  \n",
       "2                   0  \n",
       "3                   0  \n",
       "4                   0  \n",
       "\n",
       "[5 rows x 39 columns]"
      ]
     },
     "execution_count": 293,
     "metadata": {},
     "output_type": "execute_result"
    }
   ],
   "source": [
    "# reading tha data \n",
    "data = pd.read_csv('ifood_df.csv')\n",
    "data.head()"
   ]
  },
  {
   "cell_type": "raw",
   "id": "e7e7f66b-e55d-4349-81e9-1058af964aff",
   "metadata": {},
   "source": [
    ".Income:customer’s yearly household income\t\n",
    ".Kidhome:number of small children in customer’s household\t\n",
    ".Teenhome:number of teenagers in customer’s household\n",
    ".Recency:number of days since the last purchase\t\n",
    ".MntWines:amount spent on wine products in the last 2 years\t\n",
    ".MntFruits:amount spent on fruits products in the last 2 years\t\n",
    ".MntGoldProds:amount spent on gold products in the last 2 years\t\n",
    ".marital_Together:1 if customer is in relationship, 0 otherwise.\t\n",
    ".marital_Widow:1 if customer is a widow / widower, 0 otherwise\t\n",
    ".education_2n Cycle\t:customer has secondary education\t\n",
    ".education_Basic:customer has basic education\t\n",
    ".education_Graduation:Customer has a bachelor degree\t\n",
    ".education_Master:Customer has a masters degree\t\n",
    ".MntTotal:Total amount spent on all the products\n",
    ".AcceptedCmp1:1 if customer accepted the offer in the 1st campaign, 0 otherwise\t\n",
    ".AcceptedCmp2:1 if customer accepted the offer in the 2nd campaign, 0 otherwise\t\n",
    ".AcceptedCmp5:1 if customer accepted the offer in the 5th campaign, 0 otherwise\t\n",
    ".Response:1 if customer accepted the offer in the last campaign, 0 otherwise\t\n",
    ".AcceptedCmpOverall:overall number of accepted campaigns\t\n",
    ".Complain:1 if customer complained in the last 2 years\t\n",
    ".Customer_Days:number of days since registration as a customer\t\n",
    ".NumStorePurchases:number of purchases made directly in stores\t\n",
    ".NumWebPurchases:number of purchases made through company’s web site\t\n",
    ".NumWebVisitsMonth:number of visits to company’s web site in the last month\t"
   ]
  },
  {
   "cell_type": "code",
   "execution_count": 294,
   "id": "6520cfa1-531f-4931-a860-9fe8fb976862",
   "metadata": {},
   "outputs": [
    {
     "data": {
      "text/plain": [
       "Index(['Income', 'Kidhome', 'Teenhome', 'Recency', 'MntWines', 'MntFruits',\n",
       "       'MntMeatProducts', 'MntFishProducts', 'MntSweetProducts',\n",
       "       'MntGoldProds', 'NumDealsPurchases', 'NumWebPurchases',\n",
       "       'NumCatalogPurchases', 'NumStorePurchases', 'NumWebVisitsMonth',\n",
       "       'AcceptedCmp3', 'AcceptedCmp4', 'AcceptedCmp5', 'AcceptedCmp1',\n",
       "       'AcceptedCmp2', 'Complain', 'Z_CostContact', 'Z_Revenue', 'Response',\n",
       "       'Age', 'Customer_Days', 'marital_Divorced', 'marital_Married',\n",
       "       'marital_Single', 'marital_Together', 'marital_Widow',\n",
       "       'education_2n Cycle', 'education_Basic', 'education_Graduation',\n",
       "       'education_Master', 'education_PhD', 'MntTotal', 'MntRegularProds',\n",
       "       'AcceptedCmpOverall'],\n",
       "      dtype='object')"
      ]
     },
     "execution_count": 294,
     "metadata": {},
     "output_type": "execute_result"
    }
   ],
   "source": [
    "data.columns"
   ]
  },
  {
   "cell_type": "markdown",
   "id": "534e47c3-000c-468e-bfe7-a829aadf263c",
   "metadata": {},
   "source": [
    "## Looking for missing values"
   ]
  },
  {
   "cell_type": "code",
   "execution_count": 296,
   "id": "06ddf46d-7a7f-43d9-9acf-0fd574d959ee",
   "metadata": {},
   "outputs": [
    {
     "data": {
      "text/plain": [
       "Income                  0\n",
       "Kidhome                 0\n",
       "Teenhome                0\n",
       "Recency                 0\n",
       "MntWines                0\n",
       "MntFruits               0\n",
       "MntMeatProducts         0\n",
       "MntFishProducts         0\n",
       "MntSweetProducts        0\n",
       "MntGoldProds            0\n",
       "NumDealsPurchases       0\n",
       "NumWebPurchases         0\n",
       "NumCatalogPurchases     0\n",
       "NumStorePurchases       0\n",
       "NumWebVisitsMonth       0\n",
       "AcceptedCmp3            0\n",
       "AcceptedCmp4            0\n",
       "AcceptedCmp5            0\n",
       "AcceptedCmp1            0\n",
       "AcceptedCmp2            0\n",
       "Complain                0\n",
       "Z_CostContact           0\n",
       "Z_Revenue               0\n",
       "Response                0\n",
       "Age                     0\n",
       "Customer_Days           0\n",
       "marital_Divorced        0\n",
       "marital_Married         0\n",
       "marital_Single          0\n",
       "marital_Together        0\n",
       "marital_Widow           0\n",
       "education_2n Cycle      0\n",
       "education_Basic         0\n",
       "education_Graduation    0\n",
       "education_Master        0\n",
       "education_PhD           0\n",
       "MntTotal                0\n",
       "MntRegularProds         0\n",
       "AcceptedCmpOverall      0\n",
       "dtype: int64"
      ]
     },
     "execution_count": 296,
     "metadata": {},
     "output_type": "execute_result"
    }
   ],
   "source": [
    "data.isna().sum()"
   ]
  },
  {
   "cell_type": "markdown",
   "id": "7cd28ad9-5cec-4dbf-9116-6375f231dd24",
   "metadata": {},
   "source": [
    "## Assesing unique values "
   ]
  },
  {
   "cell_type": "raw",
   "id": "988f3c7d-135e-472e-9c13-6955f9fe95a2",
   "metadata": {},
   "source": [
    ".check unique values in eeach column if a column has the same values then we cannot use this column in our analysis and remove it "
   ]
  },
  {
   "cell_type": "code",
   "execution_count": 298,
   "id": "f6bd834a-3681-4c6c-bb47-c90134fc88ea",
   "metadata": {},
   "outputs": [
    {
     "data": {
      "text/plain": [
       "Income                  1963\n",
       "Kidhome                    3\n",
       "Teenhome                   3\n",
       "Recency                  100\n",
       "MntWines                 775\n",
       "MntFruits                158\n",
       "MntMeatProducts          551\n",
       "MntFishProducts          182\n",
       "MntSweetProducts         176\n",
       "MntGoldProds             212\n",
       "NumDealsPurchases         15\n",
       "NumWebPurchases           15\n",
       "NumCatalogPurchases       13\n",
       "NumStorePurchases         14\n",
       "NumWebVisitsMonth         16\n",
       "AcceptedCmp3               2\n",
       "AcceptedCmp4               2\n",
       "AcceptedCmp5               2\n",
       "AcceptedCmp1               2\n",
       "AcceptedCmp2               2\n",
       "Complain                   2\n",
       "Z_CostContact              1\n",
       "Z_Revenue                  1\n",
       "Response                   2\n",
       "Age                       56\n",
       "Customer_Days            662\n",
       "marital_Divorced           2\n",
       "marital_Married            2\n",
       "marital_Single             2\n",
       "marital_Together           2\n",
       "marital_Widow              2\n",
       "education_2n Cycle         2\n",
       "education_Basic            2\n",
       "education_Graduation       2\n",
       "education_Master           2\n",
       "education_PhD              2\n",
       "MntTotal                 897\n",
       "MntRegularProds          974\n",
       "AcceptedCmpOverall         5\n",
       "dtype: int64"
      ]
     },
     "execution_count": 298,
     "metadata": {},
     "output_type": "execute_result"
    }
   ],
   "source": [
    "data.nunique()"
   ]
  },
  {
   "cell_type": "code",
   "execution_count": 299,
   "id": "03d8bced-673f-429c-a4e1-ea5e08433a12",
   "metadata": {},
   "outputs": [],
   "source": [
    "data.drop(['Z_CostContact','Z_Revenue'],axis=1,inplace=True)"
   ]
  },
  {
   "cell_type": "markdown",
   "id": "e0f0b2d1-0982-4ac3-8c3a-2077d5c2aab7",
   "metadata": {},
   "source": [
    "## Data Exploration "
   ]
  },
  {
   "cell_type": "raw",
   "id": "30702b43-e485-4da3-b367-481a54bc2b45",
   "metadata": {},
   "source": [
    ".Box plot for the total amount spent on all products(MnTotal)\n",
    ".Outliers\n",
    ".Histogram for income and age\n",
    ".Correltation Matrix \n",
    ".Point-Biserial correltation for binary varibales "
   ]
  },
  {
   "cell_type": "markdown",
   "id": "0758a0d8-f9de-4025-8a45-25e519679490",
   "metadata": {},
   "source": [
    "### .Box plot for the total amount spent on all products(MnTotal) "
   ]
  },
  {
   "cell_type": "raw",
   "id": "0394a642-979a-446e-955f-ce6bc25ae699",
   "metadata": {},
   "source": [
    "Box plot will help to find outliers "
   ]
  },
  {
   "cell_type": "code",
   "execution_count": 302,
   "id": "5f016e0f-4328-421f-baa6-9636a1780399",
   "metadata": {},
   "outputs": [
    {
     "data": {
      "text/plain": [
       "Text(0.5, 1.0, 'Box Plot For MnTotal')"
      ]
     },
     "execution_count": 302,
     "metadata": {},
     "output_type": "execute_result"
    },
    {
     "data": {
      "image/png": "[encoded data removed]",
      "text/plain": [
       "<Figure size 600x400 with 1 Axes>"
      ]
     },
     "metadata": {},
     "output_type": "display_data"
    }
   ],
   "source": [
    "plt.figure(figsize=(6,4))\n",
    "sns.boxplot(data=data,y='MntTotal')\n",
    "plt.title('Box Plot For MnTotal')"
   ]
  },
  {
   "cell_type": "code",
   "execution_count": 303,
   "id": "ceb704ff-70ac-432e-ba12-7f21e139de2f",
   "metadata": {},
   "outputs": [
    {
     "data": {
      "text/html": [
       "<div>\n",
       "<style scoped>\n",
       "    .dataframe tbody tr th:only-of-type {\n",
       "        vertical-align: middle;\n",
       "    }\n",
       "\n",
       "    .dataframe tbody tr th {\n",
       "        vertical-align: top;\n",
       "    }\n",
       "\n",
       "    .dataframe thead th {\n",
       "        text-align: right;\n",
       "    }\n",
       "</style>\n",
       "<table border=\"1\" class=\"dataframe\">\n",
       "  <thead>\n",
       "    <tr style=\"text-align: right;\">\n",
       "      <th></th>\n",
       "      <th>Income</th>\n",
       "      <th>Kidhome</th>\n",
       "      <th>Teenhome</th>\n",
       "      <th>Recency</th>\n",
       "      <th>MntWines</th>\n",
       "      <th>MntFruits</th>\n",
       "      <th>MntMeatProducts</th>\n",
       "      <th>MntFishProducts</th>\n",
       "      <th>MntSweetProducts</th>\n",
       "      <th>MntGoldProds</th>\n",
       "      <th>...</th>\n",
       "      <th>marital_Together</th>\n",
       "      <th>marital_Widow</th>\n",
       "      <th>education_2n Cycle</th>\n",
       "      <th>education_Basic</th>\n",
       "      <th>education_Graduation</th>\n",
       "      <th>education_Master</th>\n",
       "      <th>education_PhD</th>\n",
       "      <th>MntTotal</th>\n",
       "      <th>MntRegularProds</th>\n",
       "      <th>AcceptedCmpOverall</th>\n",
       "    </tr>\n",
       "  </thead>\n",
       "  <tbody>\n",
       "    <tr>\n",
       "      <th>1159</th>\n",
       "      <td>90638.0</td>\n",
       "      <td>0</td>\n",
       "      <td>0</td>\n",
       "      <td>29</td>\n",
       "      <td>1156</td>\n",
       "      <td>120</td>\n",
       "      <td>915</td>\n",
       "      <td>94</td>\n",
       "      <td>144</td>\n",
       "      <td>96</td>\n",
       "      <td>...</td>\n",
       "      <td>0</td>\n",
       "      <td>0</td>\n",
       "      <td>0</td>\n",
       "      <td>0</td>\n",
       "      <td>0</td>\n",
       "      <td>1</td>\n",
       "      <td>0</td>\n",
       "      <td>2429</td>\n",
       "      <td>2333</td>\n",
       "      <td>1</td>\n",
       "    </tr>\n",
       "    <tr>\n",
       "      <th>1467</th>\n",
       "      <td>87679.0</td>\n",
       "      <td>0</td>\n",
       "      <td>0</td>\n",
       "      <td>62</td>\n",
       "      <td>1259</td>\n",
       "      <td>172</td>\n",
       "      <td>815</td>\n",
       "      <td>97</td>\n",
       "      <td>148</td>\n",
       "      <td>33</td>\n",
       "      <td>...</td>\n",
       "      <td>1</td>\n",
       "      <td>0</td>\n",
       "      <td>0</td>\n",
       "      <td>0</td>\n",
       "      <td>1</td>\n",
       "      <td>0</td>\n",
       "      <td>0</td>\n",
       "      <td>2491</td>\n",
       "      <td>2458</td>\n",
       "      <td>3</td>\n",
       "    </tr>\n",
       "    <tr>\n",
       "      <th>1547</th>\n",
       "      <td>90638.0</td>\n",
       "      <td>0</td>\n",
       "      <td>0</td>\n",
       "      <td>29</td>\n",
       "      <td>1156</td>\n",
       "      <td>120</td>\n",
       "      <td>915</td>\n",
       "      <td>94</td>\n",
       "      <td>144</td>\n",
       "      <td>96</td>\n",
       "      <td>...</td>\n",
       "      <td>0</td>\n",
       "      <td>0</td>\n",
       "      <td>0</td>\n",
       "      <td>0</td>\n",
       "      <td>0</td>\n",
       "      <td>1</td>\n",
       "      <td>0</td>\n",
       "      <td>2429</td>\n",
       "      <td>2333</td>\n",
       "      <td>1</td>\n",
       "    </tr>\n",
       "  </tbody>\n",
       "</table>\n",
       "<p>3 rows × 37 columns</p>\n",
       "</div>"
      ],
      "text/plain": [
       "       Income  Kidhome  Teenhome  Recency  MntWines  MntFruits  \\\n",
       "1159  90638.0        0         0       29      1156        120   \n",
       "1467  87679.0        0         0       62      1259        172   \n",
       "1547  90638.0        0         0       29      1156        120   \n",
       "\n",
       "      MntMeatProducts  MntFishProducts  MntSweetProducts  MntGoldProds  ...  \\\n",
       "1159              915               94               144            96  ...   \n",
       "1467              815               97               148            33  ...   \n",
       "1547              915               94               144            96  ...   \n",
       "\n",
       "      marital_Together  marital_Widow  education_2n Cycle  education_Basic  \\\n",
       "1159                 0              0                   0                0   \n",
       "1467                 1              0                   0                0   \n",
       "1547                 0              0                   0                0   \n",
       "\n",
       "      education_Graduation  education_Master  education_PhD  MntTotal  \\\n",
       "1159                     0                 1              0      2429   \n",
       "1467                     1                 0              0      2491   \n",
       "1547                     0                 1              0      2429   \n",
       "\n",
       "      MntRegularProds  AcceptedCmpOverall  \n",
       "1159             2333                   1  \n",
       "1467             2458                   3  \n",
       "1547             2333                   1  \n",
       "\n",
       "[3 rows x 37 columns]"
      ]
     },
     "execution_count": 303,
     "metadata": {},
     "output_type": "execute_result"
    }
   ],
   "source": [
    "Q1 =data['MntTotal'].quantile(.25)\n",
    "Q3 =data['MntTotal'].quantile(.75)\n",
    "IQR=Q3-Q1\n",
    "lower_bound = Q1-1.5*IQR\n",
    "upper_bound = Q3+1.5*IQR\n",
    "outliers = data[(data['MntTotal']<lower_bound) | (data['MntTotal']>upper_bound)]\n",
    "outliers.head()"
   ]
  },
  {
   "cell_type": "markdown",
   "id": "c4af4847-8279-40eb-ab0d-9f0a4a06ef41",
   "metadata": {},
   "source": [
    "## remove outliers "
   ]
  },
  {
   "cell_type": "code",
   "execution_count": 305,
   "id": "88aae929-f7c5-4101-b8b2-4feb0574a4b3",
   "metadata": {},
   "outputs": [
    {
     "data": {
      "text/html": [
       "<div>\n",
       "<style scoped>\n",
       "    .dataframe tbody tr th:only-of-type {\n",
       "        vertical-align: middle;\n",
       "    }\n",
       "\n",
       "    .dataframe tbody tr th {\n",
       "        vertical-align: top;\n",
       "    }\n",
       "\n",
       "    .dataframe thead th {\n",
       "        text-align: right;\n",
       "    }\n",
       "</style>\n",
       "<table border=\"1\" class=\"dataframe\">\n",
       "  <thead>\n",
       "    <tr style=\"text-align: right;\">\n",
       "      <th></th>\n",
       "      <th>Income</th>\n",
       "      <th>Kidhome</th>\n",
       "      <th>Teenhome</th>\n",
       "      <th>Recency</th>\n",
       "      <th>MntWines</th>\n",
       "      <th>MntFruits</th>\n",
       "      <th>MntMeatProducts</th>\n",
       "      <th>MntFishProducts</th>\n",
       "      <th>MntSweetProducts</th>\n",
       "      <th>MntGoldProds</th>\n",
       "      <th>...</th>\n",
       "      <th>marital_Together</th>\n",
       "      <th>marital_Widow</th>\n",
       "      <th>education_2n Cycle</th>\n",
       "      <th>education_Basic</th>\n",
       "      <th>education_Graduation</th>\n",
       "      <th>education_Master</th>\n",
       "      <th>education_PhD</th>\n",
       "      <th>MntTotal</th>\n",
       "      <th>MntRegularProds</th>\n",
       "      <th>AcceptedCmpOverall</th>\n",
       "    </tr>\n",
       "  </thead>\n",
       "  <tbody>\n",
       "    <tr>\n",
       "      <th>count</th>\n",
       "      <td>2202.000000</td>\n",
       "      <td>2202.000000</td>\n",
       "      <td>2202.000000</td>\n",
       "      <td>2202.000000</td>\n",
       "      <td>2202.000000</td>\n",
       "      <td>2202.000000</td>\n",
       "      <td>2202.000000</td>\n",
       "      <td>2202.000000</td>\n",
       "      <td>2202.000000</td>\n",
       "      <td>2202.000000</td>\n",
       "      <td>...</td>\n",
       "      <td>2202.000000</td>\n",
       "      <td>2202.000000</td>\n",
       "      <td>2202.000000</td>\n",
       "      <td>2202.000000</td>\n",
       "      <td>2202.000000</td>\n",
       "      <td>2202.000000</td>\n",
       "      <td>2202.000000</td>\n",
       "      <td>2202.000000</td>\n",
       "      <td>2202.000000</td>\n",
       "      <td>2202.000000</td>\n",
       "    </tr>\n",
       "    <tr>\n",
       "      <th>mean</th>\n",
       "      <td>51570.283379</td>\n",
       "      <td>0.442779</td>\n",
       "      <td>0.507266</td>\n",
       "      <td>49.021344</td>\n",
       "      <td>304.960036</td>\n",
       "      <td>26.252044</td>\n",
       "      <td>164.336058</td>\n",
       "      <td>37.678474</td>\n",
       "      <td>26.967302</td>\n",
       "      <td>44.014986</td>\n",
       "      <td>...</td>\n",
       "      <td>0.257493</td>\n",
       "      <td>0.034514</td>\n",
       "      <td>0.089918</td>\n",
       "      <td>0.024523</td>\n",
       "      <td>0.504995</td>\n",
       "      <td>0.164396</td>\n",
       "      <td>0.216167</td>\n",
       "      <td>560.193915</td>\n",
       "      <td>516.178928</td>\n",
       "      <td>0.297457</td>\n",
       "    </tr>\n",
       "    <tr>\n",
       "      <th>std</th>\n",
       "      <td>20679.438848</td>\n",
       "      <td>0.537250</td>\n",
       "      <td>0.544429</td>\n",
       "      <td>28.944211</td>\n",
       "      <td>336.135586</td>\n",
       "      <td>39.589747</td>\n",
       "      <td>216.312982</td>\n",
       "      <td>54.821185</td>\n",
       "      <td>40.926101</td>\n",
       "      <td>51.747221</td>\n",
       "      <td>...</td>\n",
       "      <td>0.437353</td>\n",
       "      <td>0.182587</td>\n",
       "      <td>0.286130</td>\n",
       "      <td>0.154702</td>\n",
       "      <td>0.500089</td>\n",
       "      <td>0.370719</td>\n",
       "      <td>0.411723</td>\n",
       "      <td>572.096830</td>\n",
       "      <td>549.962471</td>\n",
       "      <td>0.678134</td>\n",
       "    </tr>\n",
       "    <tr>\n",
       "      <th>min</th>\n",
       "      <td>1730.000000</td>\n",
       "      <td>0.000000</td>\n",
       "      <td>0.000000</td>\n",
       "      <td>0.000000</td>\n",
       "      <td>0.000000</td>\n",
       "      <td>0.000000</td>\n",
       "      <td>0.000000</td>\n",
       "      <td>0.000000</td>\n",
       "      <td>0.000000</td>\n",
       "      <td>0.000000</td>\n",
       "      <td>...</td>\n",
       "      <td>0.000000</td>\n",
       "      <td>0.000000</td>\n",
       "      <td>0.000000</td>\n",
       "      <td>0.000000</td>\n",
       "      <td>0.000000</td>\n",
       "      <td>0.000000</td>\n",
       "      <td>0.000000</td>\n",
       "      <td>4.000000</td>\n",
       "      <td>-283.000000</td>\n",
       "      <td>0.000000</td>\n",
       "    </tr>\n",
       "    <tr>\n",
       "      <th>25%</th>\n",
       "      <td>35182.500000</td>\n",
       "      <td>0.000000</td>\n",
       "      <td>0.000000</td>\n",
       "      <td>24.000000</td>\n",
       "      <td>24.000000</td>\n",
       "      <td>2.000000</td>\n",
       "      <td>16.000000</td>\n",
       "      <td>3.000000</td>\n",
       "      <td>1.000000</td>\n",
       "      <td>9.000000</td>\n",
       "      <td>...</td>\n",
       "      <td>0.000000</td>\n",
       "      <td>0.000000</td>\n",
       "      <td>0.000000</td>\n",
       "      <td>0.000000</td>\n",
       "      <td>0.000000</td>\n",
       "      <td>0.000000</td>\n",
       "      <td>0.000000</td>\n",
       "      <td>56.000000</td>\n",
       "      <td>42.000000</td>\n",
       "      <td>0.000000</td>\n",
       "    </tr>\n",
       "    <tr>\n",
       "      <th>50%</th>\n",
       "      <td>51258.500000</td>\n",
       "      <td>0.000000</td>\n",
       "      <td>0.000000</td>\n",
       "      <td>49.000000</td>\n",
       "      <td>176.500000</td>\n",
       "      <td>8.000000</td>\n",
       "      <td>68.000000</td>\n",
       "      <td>12.000000</td>\n",
       "      <td>8.000000</td>\n",
       "      <td>25.000000</td>\n",
       "      <td>...</td>\n",
       "      <td>0.000000</td>\n",
       "      <td>0.000000</td>\n",
       "      <td>0.000000</td>\n",
       "      <td>0.000000</td>\n",
       "      <td>1.000000</td>\n",
       "      <td>0.000000</td>\n",
       "      <td>0.000000</td>\n",
       "      <td>342.500000</td>\n",
       "      <td>288.000000</td>\n",
       "      <td>0.000000</td>\n",
       "    </tr>\n",
       "    <tr>\n",
       "      <th>75%</th>\n",
       "      <td>68146.500000</td>\n",
       "      <td>1.000000</td>\n",
       "      <td>1.000000</td>\n",
       "      <td>74.000000</td>\n",
       "      <td>505.000000</td>\n",
       "      <td>33.000000</td>\n",
       "      <td>230.750000</td>\n",
       "      <td>50.000000</td>\n",
       "      <td>33.000000</td>\n",
       "      <td>56.000000</td>\n",
       "      <td>...</td>\n",
       "      <td>1.000000</td>\n",
       "      <td>0.000000</td>\n",
       "      <td>0.000000</td>\n",
       "      <td>0.000000</td>\n",
       "      <td>1.000000</td>\n",
       "      <td>0.000000</td>\n",
       "      <td>0.000000</td>\n",
       "      <td>962.000000</td>\n",
       "      <td>883.000000</td>\n",
       "      <td>0.000000</td>\n",
       "    </tr>\n",
       "    <tr>\n",
       "      <th>max</th>\n",
       "      <td>113734.000000</td>\n",
       "      <td>2.000000</td>\n",
       "      <td>2.000000</td>\n",
       "      <td>99.000000</td>\n",
       "      <td>1493.000000</td>\n",
       "      <td>199.000000</td>\n",
       "      <td>1725.000000</td>\n",
       "      <td>259.000000</td>\n",
       "      <td>262.000000</td>\n",
       "      <td>321.000000</td>\n",
       "      <td>...</td>\n",
       "      <td>1.000000</td>\n",
       "      <td>1.000000</td>\n",
       "      <td>1.000000</td>\n",
       "      <td>1.000000</td>\n",
       "      <td>1.000000</td>\n",
       "      <td>1.000000</td>\n",
       "      <td>1.000000</td>\n",
       "      <td>2304.000000</td>\n",
       "      <td>2259.000000</td>\n",
       "      <td>4.000000</td>\n",
       "    </tr>\n",
       "  </tbody>\n",
       "</table>\n",
       "<p>8 rows × 37 columns</p>\n",
       "</div>"
      ],
      "text/plain": [
       "              Income      Kidhome     Teenhome      Recency     MntWines  \\\n",
       "count    2202.000000  2202.000000  2202.000000  2202.000000  2202.000000   \n",
       "mean    51570.283379     0.442779     0.507266    49.021344   304.960036   \n",
       "std     20679.438848     0.537250     0.544429    28.944211   336.135586   \n",
       "min      1730.000000     0.000000     0.000000     0.000000     0.000000   \n",
       "25%     35182.500000     0.000000     0.000000    24.000000    24.000000   \n",
       "50%     51258.500000     0.000000     0.000000    49.000000   176.500000   \n",
       "75%     68146.500000     1.000000     1.000000    74.000000   505.000000   \n",
       "max    113734.000000     2.000000     2.000000    99.000000  1493.000000   \n",
       "\n",
       "         MntFruits  MntMeatProducts  MntFishProducts  MntSweetProducts  \\\n",
       "count  2202.000000      2202.000000      2202.000000       2202.000000   \n",
       "mean     26.252044       164.336058        37.678474         26.967302   \n",
       "std      39.589747       216.312982        54.821185         40.926101   \n",
       "min       0.000000         0.000000         0.000000          0.000000   \n",
       "25%       2.000000        16.000000         3.000000          1.000000   \n",
       "50%       8.000000        68.000000        12.000000          8.000000   \n",
       "75%      33.000000       230.750000        50.000000         33.000000   \n",
       "max     199.000000      1725.000000       259.000000        262.000000   \n",
       "\n",
       "       MntGoldProds  ...  marital_Together  marital_Widow  education_2n Cycle  \\\n",
       "count   2202.000000  ...       2202.000000    2202.000000         2202.000000   \n",
       "mean      44.014986  ...          0.257493       0.034514            0.089918   \n",
       "std       51.747221  ...          0.437353       0.182587            0.286130   \n",
       "min        0.000000  ...          0.000000       0.000000            0.000000   \n",
       "25%        9.000000  ...          0.000000       0.000000            0.000000   \n",
       "50%       25.000000  ...          0.000000       0.000000            0.000000   \n",
       "75%       56.000000  ...          1.000000       0.000000            0.000000   \n",
       "max      321.000000  ...          1.000000       1.000000            1.000000   \n",
       "\n",
       "       education_Basic  education_Graduation  education_Master  education_PhD  \\\n",
       "count      2202.000000           2202.000000       2202.000000    2202.000000   \n",
       "mean          0.024523              0.504995          0.164396       0.216167   \n",
       "std           0.154702              0.500089          0.370719       0.411723   \n",
       "min           0.000000              0.000000          0.000000       0.000000   \n",
       "25%           0.000000              0.000000          0.000000       0.000000   \n",
       "50%           0.000000              1.000000          0.000000       0.000000   \n",
       "75%           0.000000              1.000000          0.000000       0.000000   \n",
       "max           1.000000              1.000000          1.000000       1.000000   \n",
       "\n",
       "          MntTotal  MntRegularProds  AcceptedCmpOverall  \n",
       "count  2202.000000      2202.000000         2202.000000  \n",
       "mean    560.193915       516.178928            0.297457  \n",
       "std     572.096830       549.962471            0.678134  \n",
       "min       4.000000      -283.000000            0.000000  \n",
       "25%      56.000000        42.000000            0.000000  \n",
       "50%     342.500000       288.000000            0.000000  \n",
       "75%     962.000000       883.000000            0.000000  \n",
       "max    2304.000000      2259.000000            4.000000  \n",
       "\n",
       "[8 rows x 37 columns]"
      ]
     },
     "execution_count": 305,
     "metadata": {},
     "output_type": "execute_result"
    }
   ],
   "source": [
    "data = data[(data['MntTotal']>lower_bound)& (data['MntTotal']<upper_bound)]\n",
    "data.describe()"
   ]
  },
  {
   "cell_type": "code",
   "execution_count": 306,
   "id": "9e37a285-b233-44e1-b306-5505a0827572",
   "metadata": {},
   "outputs": [
    {
     "data": {
      "text/plain": [
       "Text(0, 0.5, 'Income')"
      ]
     },
     "execution_count": 306,
     "metadata": {},
     "output_type": "execute_result"
    },
    {
     "data": {
      "image/png": "[encoded data removed]",
      "text/plain": [
       "<Figure size 600x400 with 1 Axes>"
      ]
     },
     "metadata": {},
     "output_type": "display_data"
    }
   ],
   "source": [
    "plt.figure(figsize=(6,4))\n",
    "sns.boxplot(data=data,y='Income')\n",
    "plt.title('Box plot for Income')\n",
    "plt.ylabel('Income')"
   ]
  },
  {
   "cell_type": "code",
   "execution_count": 307,
   "id": "6382227d-d6d9-41ab-bf3d-f8b15e722e79",
   "metadata": {},
   "outputs": [
    {
     "data": {
      "text/plain": [
       "Text(0, 0.5, 'Frequency')"
      ]
     },
     "execution_count": 307,
     "metadata": {},
     "output_type": "execute_result"
    },
    {
     "data": {
      "image/png": "[encoded data removed]",
      "text/plain": [
       "<Figure size 800x600 with 1 Axes>"
      ]
     },
     "metadata": {},
     "output_type": "display_data"
    }
   ],
   "source": [
    "plt.figure(figsize=(8,6))\n",
    "sns.histplot(data=data,x='Income',bins=30,kde=True)\n",
    "plt.title('Histogram for Income')\n",
    "plt.ylabel('Frequency')"
   ]
  },
  {
   "cell_type": "raw",
   "id": "7314c2b6-c8f4-4a8e-a478-fb1e973382e6",
   "metadata": {},
   "source": [
    "bins=30: Divides the income range into 30 intervals (bins), determining the granularity of the histogram.\n",
    "\n",
    "kde=True: Adds a Kernel Density Estimation (KDE) curve to the histogram, which shows a smoothed approximation of the data distribution"
   ]
  },
  {
   "cell_type": "markdown",
   "id": "aa1285c6-e19e-48a0-9e7a-c2978a11a489",
   "metadata": {},
   "source": [
    "##  Histogram for age "
   ]
  },
  {
   "cell_type": "code",
   "execution_count": 309,
   "id": "4bd824cb-dd24-49d4-bc3e-84a0df81b0a8",
   "metadata": {},
   "outputs": [
    {
     "data": {
      "text/plain": [
       "Text(0, 0.5, 'Frequency')"
      ]
     },
     "execution_count": 309,
     "metadata": {},
     "output_type": "execute_result"
    },
    {
     "data": {
      "image/png": "[encoded data removed]",
      "text/plain": [
       "<Figure size 800x600 with 1 Axes>"
      ]
     },
     "metadata": {},
     "output_type": "display_data"
    }
   ],
   "source": [
    "plt.figure(figsize=(8,6))\n",
    "sns.histplot(data=data,x='Age',bins=30,kde=True)\n",
    "plt.title('Histogram for Age')\n",
    "plt.ylabel('Frequency')"
   ]
  },
  {
   "cell_type": "code",
   "execution_count": 310,
   "id": "26063d54-aa0a-40c9-944e-b74f495d370e",
   "metadata": {},
   "outputs": [
    {
     "name": "stdout",
     "output_type": "stream",
     "text": [
      "Skewness: 0.091227\n",
      "Kurtosis: -0.796125\n"
     ]
    }
   ],
   "source": [
    "print(\"Skewness: %f\" %data['Age'].skew())\n",
    "print(\"Kurtosis: %f\" %data['Age'].kurt())"
   ]
  },
  {
   "cell_type": "raw",
   "id": "dcfa72ed-747f-4e89-8749-86b6a7258af3",
   "metadata": {},
   "source": [
    "skew():\n",
    "Measures the asymmetry of the distribution.\n",
    "A value near 0 indicates a symmetric distribution, while positive or negative values show the direction of skewness:\n",
    "Positive Skew: Data is skewed to the right (long tail on the right).\n",
    "Negative Skew: Data is skewed to the left (long tail on the left).\n",
    "\n",
    "kurt():\n",
    "Measures the \"tailedness\" of the distribution.\n",
    "A kurtosis value near 3 indicates a normal (mesokurtic) distribution:\n",
    "Greater than 3:  (more outliers, sharper peak).\n",
    "Less than 3:  (fewer outliers, flatter peak)."
   ]
  },
  {
   "cell_type": "markdown",
   "id": "d6395f60-cd69-4fdb-aca5-e7ab4c2a3b56",
   "metadata": {},
   "source": [
    "## Correltaion Matrix "
   ]
  },
  {
   "cell_type": "raw",
   "id": "f17fa7a8-12c1-401b-b2b4-3850e5df8e89",
   "metadata": {},
   "source": [
    "there are many columns in the data \n",
    "we will group the columns and explore correlation between columns in each group \n",
    "we will focus on the column 'MnTotal' to understand how we can segment the customers who buy the most in overall "
   ]
  },
  {
   "cell_type": "code",
   "execution_count": 312,
   "id": "09940abc-19e0-4376-893d-7373e83c5dd6",
   "metadata": {},
   "outputs": [],
   "source": [
    "cols_demographics = ['Income','Age']\n",
    "cols_childern = ['Kidhome','Teenhome']\n",
    "cols_martial = ['marital_Divorced','marital_Married','marital_Single','marital_Together','marital_Widow']\n",
    "cols_mnt = ['MntTotal','MntFishProducts','MntMeatProducts','MntSweetProducts','MntGoldProds','MntRegularProds']\n",
    "cols_comunication = ['Complain','Response','Customer_Days']\n",
    "cols_campaigns= ['AcceptedCmpOverall','AcceptedCmp1','AcceptedCmp2','AcceptedCmp3','AcceptedCmp4','AcceptedCmp5' ]\n",
    "cols_source_of_purchase= ['NumDealsPurchases','NumWebVisitsMonth','NumWebPurchases','NumCatalogPurchases','NumStorePurchases']\n",
    "cols_education= ['education_2n Cycle','education_Basic','education_Graduation','education_Master','education_PhD']"
   ]
  },
  {
   "cell_type": "code",
   "execution_count": 313,
   "id": "7f10866e-4380-45d5-bff4-e55061ce55f0",
   "metadata": {},
   "outputs": [
    {
     "data": {
      "text/plain": [
       "Text(0.5, 1.0, 'Correlation Matrix Heatmap')"
      ]
     },
     "execution_count": 313,
     "metadata": {},
     "output_type": "execute_result"
    },
    {
     "data": {
      "image/png": "[encoded data removed]",
      "text/plain": [
       "<Figure size 600x600 with 2 Axes>"
      ]
     },
     "metadata": {},
     "output_type": "display_data"
    }
   ],
   "source": [
    "corr_matrix = data[['MntTotal']+cols_demographics+cols_childern].corr()\n",
    "plt.figure(figsize=(6,6))\n",
    "sns.heatmap(corr_matrix,annot=True,cmap='rainbow',linewidths=.5)\n",
    "plt.title('Correlation Matrix Heatmap')"
   ]
  },
  {
   "cell_type": "raw",
   "id": "b5ff9b5c-575c-49dd-b351-940eed26f6e4",
   "metadata": {},
   "source": [
    ".annot=True: Adds the actual correlation values as annotations within the heatmap.\n",
    ".MnTotal  has a strong positive corrletaion with income and negative correlation with Kidhome\n",
    ".The number of kids increase the  amount of total spend decrease "
   ]
  },
  {
   "cell_type": "markdown",
   "id": "8acbee4b-c096-4fa4-b343-bf153eed93f8",
   "metadata": {},
   "source": [
    "## Point Biserialr Correltaions for binary varibales "
   ]
  },
  {
   "cell_type": "code",
   "execution_count": 315,
   "id": "72ab2c30-76ed-4eb8-86f7-1c7b79eacf85",
   "metadata": {},
   "outputs": [
    {
     "name": "stdout",
     "output_type": "stream",
     "text": [
      "0.0053:Point-Biserialr Correltaion for marital_Divorced with p_value 0.8041\n",
      "-0.0188:Point-Biserialr Correltaion for marital_Married with p_value 0.3767\n",
      "0.0011:Point-Biserialr Correltaion for marital_Single with p_value 0.9571\n",
      "0.0008:Point-Biserialr Correltaion for marital_Together with p_value 0.9708\n",
      "0.0370:Point-Biserialr Correltaion for marital_Widow with p_value 0.0826\n"
     ]
    }
   ],
   "source": [
    "for col in cols_martial:\n",
    "    correlation, p_value = pointbiserialr(data[col],data['MntTotal'])\n",
    "    print(f'{correlation:.4f}:Point-Biserialr Correltaion for {col} with p_value {p_value:.4f}')"
   ]
  },
  {
   "cell_type": "raw",
   "id": "3f698308-9f3a-4e93-9051-025375530ae4",
   "metadata": {},
   "source": [
    ".4f ensures the value is shown with four decimal points."
   ]
  },
  {
   "cell_type": "raw",
   "id": "9089550f-70ae-484e-af6e-2c029c067c84",
   "metadata": {},
   "source": [
    ".There is no point biserial correlation between MntTotal and different martial status"
   ]
  },
  {
   "cell_type": "code",
   "execution_count": 316,
   "id": "2056adc0-6231-4152-910f-24d27b09aa9a",
   "metadata": {},
   "outputs": [
    {
     "name": "stdout",
     "output_type": "stream",
     "text": [
      "-0.0593:point biserial correlation for education_2n Cycle with p_value 0.0054\n",
      "-0.1389:point biserial correlation for education_Basic with p_value 0.0000\n",
      "0.0159:point biserial correlation for education_Graduation with p_value 0.4551\n",
      "0.0004:point biserial correlation for education_Master with p_value 0.9842\n",
      "0.0737:point biserial correlation for education_PhD with p_value 0.0005\n"
     ]
    }
   ],
   "source": [
    "for col in cols_education:\n",
    "    correlation,p_value = pointbiserialr(data[col],data['MntTotal'])\n",
    "    print(f\"{correlation:.4f}:point biserial correlation for {col} with p_value {p_value:.4f}\")"
   ]
  },
  {
   "cell_type": "raw",
   "id": "b0dcbc16-6f57-4a7d-8bd3-2dcbff1736a9",
   "metadata": {},
   "source": [
    "education_2n Cycle:\n",
    "Correlation: -0.0593 (weak negative correlation).\n",
    "P-value: 0.0054 (statistically significant as it's less than 0.05)"
   ]
  },
  {
   "cell_type": "markdown",
   "id": "cf48fef4-738b-45d6-abdb-d4116de4df05",
   "metadata": {},
   "source": [
    "## Feature Engineering "
   ]
  },
  {
   "cell_type": "raw",
   "id": "21a4e407-86c9-41ad-bc10-04700e8e9cbb",
   "metadata": {},
   "source": [
    "New feature: Marital\n",
    "The data frame contains 5 columns to reflect marital status"
   ]
  },
  {
   "cell_type": "code",
   "execution_count": 318,
   "id": "29db1ba1-fa3c-45f6-86f8-f84f5a3ec11f",
   "metadata": {},
   "outputs": [],
   "source": [
    "def get_marital_status(row):\n",
    "    if row['marital_Divorced'] == 1:\n",
    "        return 'Divorced'\n",
    "    elif row['marital_Married'] == 1:\n",
    "        return 'Married'\n",
    "    elif row['marital_Single'] == 1:\n",
    "        return 'Single'\n",
    "    elif row['marital_Together'] == 1:\n",
    "        return 'Together'\n",
    "    elif row['marital_Widow'] == 1:\n",
    "        return 'Widow'\n",
    "    else:\n",
    "        return 'Unknown'\n",
    "data['Marital'] = data.apply(get_marital_status, axis=1)"
   ]
  },
  {
   "cell_type": "code",
   "execution_count": 319,
   "id": "a69856f4-2f2f-401c-a9d0-1301a9e81f7f",
   "metadata": {},
   "outputs": [
    {
     "name": "stderr",
     "output_type": "stream",
     "text": [
      "C:\\Users\\vip\\AppData\\Local\\Temp\\ipykernel_1312\\763043852.py:2: FutureWarning: \n",
      "\n",
      "Passing `palette` without assigning `hue` is deprecated and will be removed in v0.14.0. Assign the `x` variable to `hue` and set `legend=False` for the same effect.\n",
      "\n",
      "  sns.barplot(x='Marital', y='MntTotal', data=data, palette='rainbow')\n"
     ]
    },
    {
     "data": {
      "text/plain": [
       "Text(0, 0.5, 'MntTotal')"
      ]
     },
     "execution_count": 319,
     "metadata": {},
     "output_type": "execute_result"
    },
    {
     "data": {
      "image/png": "[encoded data removed]",
      "text/plain": [
       "<Figure size 800x600 with 1 Axes>"
      ]
     },
     "metadata": {},
     "output_type": "display_data"
    }
   ],
   "source": [
    "plt.figure(figsize=(8, 6))\n",
    "sns.barplot(x='Marital', y='MntTotal', data=data, palette='rainbow')\n",
    "plt.title('MntTotal by marital status')\n",
    "plt.xlabel('Marital status')\n",
    "plt.ylabel('MntTotal')"
   ]
  },
  {
   "cell_type": "markdown",
   "id": "17d85e67-dc7b-440a-83f9-e9295a41ca79",
   "metadata": {},
   "source": [
    "## New feature: In_relationship"
   ]
  },
  {
   "cell_type": "raw",
   "id": "d1cfae7b-0e2a-496d-b94f-efe50ed80077",
   "metadata": {},
   "source": [
    "we will add additional feature 1 if a customer martial status is \"Married\" or \"Together\"\n",
    "0 in all other cases "
   ]
  },
  {
   "cell_type": "code",
   "execution_count": 321,
   "id": "76509679-9879-4634-b951-5c896e7adba8",
   "metadata": {},
   "outputs": [
    {
     "data": {
      "text/html": [
       "<div>\n",
       "<style scoped>\n",
       "    .dataframe tbody tr th:only-of-type {\n",
       "        vertical-align: middle;\n",
       "    }\n",
       "\n",
       "    .dataframe tbody tr th {\n",
       "        vertical-align: top;\n",
       "    }\n",
       "\n",
       "    .dataframe thead th {\n",
       "        text-align: right;\n",
       "    }\n",
       "</style>\n",
       "<table border=\"1\" class=\"dataframe\">\n",
       "  <thead>\n",
       "    <tr style=\"text-align: right;\">\n",
       "      <th></th>\n",
       "      <th>Income</th>\n",
       "      <th>Kidhome</th>\n",
       "      <th>Teenhome</th>\n",
       "      <th>Recency</th>\n",
       "      <th>MntWines</th>\n",
       "      <th>MntFruits</th>\n",
       "      <th>MntMeatProducts</th>\n",
       "      <th>MntFishProducts</th>\n",
       "      <th>MntSweetProducts</th>\n",
       "      <th>MntGoldProds</th>\n",
       "      <th>...</th>\n",
       "      <th>education_2n Cycle</th>\n",
       "      <th>education_Basic</th>\n",
       "      <th>education_Graduation</th>\n",
       "      <th>education_Master</th>\n",
       "      <th>education_PhD</th>\n",
       "      <th>MntTotal</th>\n",
       "      <th>MntRegularProds</th>\n",
       "      <th>AcceptedCmpOverall</th>\n",
       "      <th>Marital</th>\n",
       "      <th>In_relationship</th>\n",
       "    </tr>\n",
       "  </thead>\n",
       "  <tbody>\n",
       "    <tr>\n",
       "      <th>0</th>\n",
       "      <td>58138.0</td>\n",
       "      <td>0</td>\n",
       "      <td>0</td>\n",
       "      <td>58</td>\n",
       "      <td>635</td>\n",
       "      <td>88</td>\n",
       "      <td>546</td>\n",
       "      <td>172</td>\n",
       "      <td>88</td>\n",
       "      <td>88</td>\n",
       "      <td>...</td>\n",
       "      <td>0</td>\n",
       "      <td>0</td>\n",
       "      <td>1</td>\n",
       "      <td>0</td>\n",
       "      <td>0</td>\n",
       "      <td>1529</td>\n",
       "      <td>1441</td>\n",
       "      <td>0</td>\n",
       "      <td>Single</td>\n",
       "      <td>0</td>\n",
       "    </tr>\n",
       "    <tr>\n",
       "      <th>1</th>\n",
       "      <td>46344.0</td>\n",
       "      <td>1</td>\n",
       "      <td>1</td>\n",
       "      <td>38</td>\n",
       "      <td>11</td>\n",
       "      <td>1</td>\n",
       "      <td>6</td>\n",
       "      <td>2</td>\n",
       "      <td>1</td>\n",
       "      <td>6</td>\n",
       "      <td>...</td>\n",
       "      <td>0</td>\n",
       "      <td>0</td>\n",
       "      <td>1</td>\n",
       "      <td>0</td>\n",
       "      <td>0</td>\n",
       "      <td>21</td>\n",
       "      <td>15</td>\n",
       "      <td>0</td>\n",
       "      <td>Single</td>\n",
       "      <td>0</td>\n",
       "    </tr>\n",
       "    <tr>\n",
       "      <th>2</th>\n",
       "      <td>71613.0</td>\n",
       "      <td>0</td>\n",
       "      <td>0</td>\n",
       "      <td>26</td>\n",
       "      <td>426</td>\n",
       "      <td>49</td>\n",
       "      <td>127</td>\n",
       "      <td>111</td>\n",
       "      <td>21</td>\n",
       "      <td>42</td>\n",
       "      <td>...</td>\n",
       "      <td>0</td>\n",
       "      <td>0</td>\n",
       "      <td>1</td>\n",
       "      <td>0</td>\n",
       "      <td>0</td>\n",
       "      <td>734</td>\n",
       "      <td>692</td>\n",
       "      <td>0</td>\n",
       "      <td>Together</td>\n",
       "      <td>1</td>\n",
       "    </tr>\n",
       "    <tr>\n",
       "      <th>3</th>\n",
       "      <td>26646.0</td>\n",
       "      <td>1</td>\n",
       "      <td>0</td>\n",
       "      <td>26</td>\n",
       "      <td>11</td>\n",
       "      <td>4</td>\n",
       "      <td>20</td>\n",
       "      <td>10</td>\n",
       "      <td>3</td>\n",
       "      <td>5</td>\n",
       "      <td>...</td>\n",
       "      <td>0</td>\n",
       "      <td>0</td>\n",
       "      <td>1</td>\n",
       "      <td>0</td>\n",
       "      <td>0</td>\n",
       "      <td>48</td>\n",
       "      <td>43</td>\n",
       "      <td>0</td>\n",
       "      <td>Together</td>\n",
       "      <td>1</td>\n",
       "    </tr>\n",
       "    <tr>\n",
       "      <th>4</th>\n",
       "      <td>58293.0</td>\n",
       "      <td>1</td>\n",
       "      <td>0</td>\n",
       "      <td>94</td>\n",
       "      <td>173</td>\n",
       "      <td>43</td>\n",
       "      <td>118</td>\n",
       "      <td>46</td>\n",
       "      <td>27</td>\n",
       "      <td>15</td>\n",
       "      <td>...</td>\n",
       "      <td>0</td>\n",
       "      <td>0</td>\n",
       "      <td>0</td>\n",
       "      <td>0</td>\n",
       "      <td>1</td>\n",
       "      <td>407</td>\n",
       "      <td>392</td>\n",
       "      <td>0</td>\n",
       "      <td>Married</td>\n",
       "      <td>1</td>\n",
       "    </tr>\n",
       "  </tbody>\n",
       "</table>\n",
       "<p>5 rows × 39 columns</p>\n",
       "</div>"
      ],
      "text/plain": [
       "    Income  Kidhome  Teenhome  Recency  MntWines  MntFruits  MntMeatProducts  \\\n",
       "0  58138.0        0         0       58       635         88              546   \n",
       "1  46344.0        1         1       38        11          1                6   \n",
       "2  71613.0        0         0       26       426         49              127   \n",
       "3  26646.0        1         0       26        11          4               20   \n",
       "4  58293.0        1         0       94       173         43              118   \n",
       "\n",
       "   MntFishProducts  MntSweetProducts  MntGoldProds  ...  education_2n Cycle  \\\n",
       "0              172                88            88  ...                   0   \n",
       "1                2                 1             6  ...                   0   \n",
       "2              111                21            42  ...                   0   \n",
       "3               10                 3             5  ...                   0   \n",
       "4               46                27            15  ...                   0   \n",
       "\n",
       "   education_Basic  education_Graduation  education_Master  education_PhD  \\\n",
       "0                0                     1                 0              0   \n",
       "1                0                     1                 0              0   \n",
       "2                0                     1                 0              0   \n",
       "3                0                     1                 0              0   \n",
       "4                0                     0                 0              1   \n",
       "\n",
       "   MntTotal  MntRegularProds  AcceptedCmpOverall   Marital  In_relationship  \n",
       "0      1529             1441                   0    Single                0  \n",
       "1        21               15                   0    Single                0  \n",
       "2       734              692                   0  Together                1  \n",
       "3        48               43                   0  Together                1  \n",
       "4       407              392                   0   Married                1  \n",
       "\n",
       "[5 rows x 39 columns]"
      ]
     },
     "execution_count": 321,
     "metadata": {},
     "output_type": "execute_result"
    }
   ],
   "source": [
    "def get_relationship(row):\n",
    "    if row['marital_Married']==1:\n",
    "        return 1\n",
    "    elif row['marital_Together']==1:\n",
    "        return 1\n",
    "    else :\n",
    "        return 0 \n",
    "data['In_relationship']= data.apply(get_relationship,axis=1)\n",
    "data.head()"
   ]
  },
  {
   "cell_type": "markdown",
   "id": "fe144c98-5edc-4fb1-bb8c-dc6cd5c8cf28",
   "metadata": {},
   "source": [
    "## K_Means Clustering"
   ]
  },
  {
   "cell_type": "raw",
   "id": "2b18e989-797e-4d7b-a6af-3d2b079f6047",
   "metadata": {},
   "source": [
    "Clustering is a statistical technique used to group data points into clusters based on similarities \n",
    "\n",
    "we a are going to:\n",
    ".Standardizing data = Subtract the mean divide bt standard deviation using standard scaler \n",
    ".standard scaler = a preprocessing module use to standarize (scale) data "
   ]
  },
  {
   "cell_type": "code",
   "execution_count": 323,
   "id": "48954cbb-764f-4b6b-9be8-19d40ba90dce",
   "metadata": {},
   "outputs": [],
   "source": [
    "from sklearn.preprocessing import StandardScaler\n",
    "from sklearn.cluster import KMeans "
   ]
  },
  {
   "cell_type": "code",
   "execution_count": 324,
   "id": "42b34b36-58c4-4cbd-80de-2c1a3eb3fec8",
   "metadata": {},
   "outputs": [
    {
     "data": {
      "text/html": [
       "<div>\n",
       "<style scoped>\n",
       "    .dataframe tbody tr th:only-of-type {\n",
       "        vertical-align: middle;\n",
       "    }\n",
       "\n",
       "    .dataframe tbody tr th {\n",
       "        vertical-align: top;\n",
       "    }\n",
       "\n",
       "    .dataframe thead th {\n",
       "        text-align: right;\n",
       "    }\n",
       "</style>\n",
       "<table border=\"1\" class=\"dataframe\">\n",
       "  <thead>\n",
       "    <tr style=\"text-align: right;\">\n",
       "      <th></th>\n",
       "      <th>Income</th>\n",
       "      <th>MntTotal</th>\n",
       "      <th>In_relationship</th>\n",
       "    </tr>\n",
       "  </thead>\n",
       "  <tbody>\n",
       "    <tr>\n",
       "      <th>count</th>\n",
       "      <td>2.202000e+03</td>\n",
       "      <td>2.202000e+03</td>\n",
       "      <td>2.202000e+03</td>\n",
       "    </tr>\n",
       "    <tr>\n",
       "      <th>mean</th>\n",
       "      <td>2.742785e-17</td>\n",
       "      <td>-8.873717e-17</td>\n",
       "      <td>-4.678869e-17</td>\n",
       "    </tr>\n",
       "    <tr>\n",
       "      <th>std</th>\n",
       "      <td>1.000227e+00</td>\n",
       "      <td>1.000227e+00</td>\n",
       "      <td>1.000227e+00</td>\n",
       "    </tr>\n",
       "    <tr>\n",
       "      <th>min</th>\n",
       "      <td>-2.410685e+00</td>\n",
       "      <td>-9.724232e-01</td>\n",
       "      <td>-1.348874e+00</td>\n",
       "    </tr>\n",
       "    <tr>\n",
       "      <th>25%</th>\n",
       "      <td>-7.926475e-01</td>\n",
       "      <td>-8.815089e-01</td>\n",
       "      <td>-1.348874e+00</td>\n",
       "    </tr>\n",
       "    <tr>\n",
       "      <th>50%</th>\n",
       "      <td>-1.508040e-02</td>\n",
       "      <td>-3.806058e-01</td>\n",
       "      <td>7.413589e-01</td>\n",
       "    </tr>\n",
       "    <tr>\n",
       "      <th>75%</th>\n",
       "      <td>8.017617e-01</td>\n",
       "      <td>7.024988e-01</td>\n",
       "      <td>7.413589e-01</td>\n",
       "    </tr>\n",
       "    <tr>\n",
       "      <th>max</th>\n",
       "      <td>3.006747e+00</td>\n",
       "      <td>3.048788e+00</td>\n",
       "      <td>7.413589e-01</td>\n",
       "    </tr>\n",
       "  </tbody>\n",
       "</table>\n",
       "</div>"
      ],
      "text/plain": [
       "             Income      MntTotal  In_relationship\n",
       "count  2.202000e+03  2.202000e+03     2.202000e+03\n",
       "mean   2.742785e-17 -8.873717e-17    -4.678869e-17\n",
       "std    1.000227e+00  1.000227e+00     1.000227e+00\n",
       "min   -2.410685e+00 -9.724232e-01    -1.348874e+00\n",
       "25%   -7.926475e-01 -8.815089e-01    -1.348874e+00\n",
       "50%   -1.508040e-02 -3.806058e-01     7.413589e-01\n",
       "75%    8.017617e-01  7.024988e-01     7.413589e-01\n",
       "max    3.006747e+00  3.048788e+00     7.413589e-01"
      ]
     },
     "execution_count": 324,
     "metadata": {},
     "output_type": "execute_result"
    }
   ],
   "source": [
    "from sklearn.preprocessing import StandardScaler\n",
    "scaler = StandardScaler()\n",
    "cols_for_clustering = ['Income', 'MntTotal', 'In_relationship']\n",
    "data_scaled = data.copy()\n",
    "data_scaled[cols_for_clustering] = scaler.fit_transform(data[cols_for_clustering])\n",
    "data_scaled[cols_for_clustering].describe()"
   ]
  },
  {
   "cell_type": "raw",
   "id": "d94a7944-9baa-4d6b-8dd1-d2f7914b2820",
   "metadata": {},
   "source": [
    " we have mean of zero and std 1 "
   ]
  },
  {
   "cell_type": "markdown",
   "id": "1cd35e1c-2e37-40d1-b743-57a5c3a83ecb",
   "metadata": {},
   "source": [
    "## Principal Component Analysis(PCA)\n",
    "#### PCA is a technique of dimensionality reduction takes the original features(Dinmension) and create new feature that capture the most variance of the data."
   ]
  },
  {
   "cell_type": "code",
   "execution_count": 326,
   "id": "d94c9ef1-e3d0-49d6-a2e4-cc77fa93cc30",
   "metadata": {},
   "outputs": [],
   "source": [
    "from sklearn import decomposition\n",
    "pca = decomposition.PCA(n_components = 2)\n",
    "pca_res = pca.fit_transform(data_scaled[cols_for_clustering])\n",
    "data_scaled['pc1'] = pca_res[:,0]\n",
    "data_scaled['pc2'] = pca_res[:,1]"
   ]
  },
  {
   "cell_type": "markdown",
   "id": "7d24c593-6db8-4e3b-a9dc-44537fdf1673",
   "metadata": {},
   "source": [
    "## Elbow Method "
   ]
  },
  {
   "cell_type": "raw",
   "id": "4b4f63a8-3f02-425b-b727-36e83db3d695",
   "metadata": {},
   "source": [
    ".The elbow method is a technique used to find the optimal number of Clusters"
   ]
  },
  {
   "cell_type": "code",
   "execution_count": 328,
   "id": "512bcad0-2e28-40a0-bd07-96380e8c7aa5",
   "metadata": {},
   "outputs": [],
   "source": [
    "x = data_scaled[cols_for_clustering]\n",
    "inertia_list = []\n",
    "for k in range(2,10):\n",
    "    inertia = KMeans(n_clusters=k,random_state=7).fit(x).inertia_\n",
    "    inertia_list.append(inertia)"
   ]
  },
  {
   "cell_type": "code",
   "execution_count": 329,
   "id": "06fccb9a-b087-4919-8472-9e7e9ec6a6c8",
   "metadata": {},
   "outputs": [
    {
     "data": {
      "image/png": "[encoded data removed]",
      "text/plain": [
       "<Figure size 700x500 with 1 Axes>"
      ]
     },
     "metadata": {},
     "output_type": "display_data"
    }
   ],
   "source": [
    "plt.figure(figsize=(7,5))\n",
    "plt.plot(range(2,10),inertia_list,color =\"0\")\n",
    "plt.title(\"Inertia vs. Number of Clusters\")\n",
    "plt.xlabel(\"Number of Clusters (K)\")\n",
    "plt.ylabel(\"Inertia\")\n",
    "plt.show()"
   ]
  },
  {
   "cell_type": "code",
   "execution_count": 330,
   "id": "dd923114-1d5e-4ee9-bd57-dd83fcae9e17",
   "metadata": {},
   "outputs": [],
   "source": [
    "model = KMeans(n_clusters = 4)\n",
    "model.fit(data_scaled[cols_for_clustering])\n",
    "data_scaled['Cluster'] = model.predict(data_scaled[cols_for_clustering])"
   ]
  },
  {
   "cell_type": "markdown",
   "id": "1f0700fd-7b7f-40cb-83c3-4f9c7e39b585",
   "metadata": {},
   "source": [
    "## Let's Explore Clusters "
   ]
  },
  {
   "cell_type": "code",
   "execution_count": 332,
   "id": "f0ac845d-b480-4b4e-ad18-8d6c0b5022b0",
   "metadata": {},
   "outputs": [
    {
     "data": {
      "text/plain": [
       "<matplotlib.legend.Legend at 0x1eb76bff3b0>"
      ]
     },
     "execution_count": 332,
     "metadata": {},
     "output_type": "execute_result"
    },
    {
     "data": {
      "image/png": "[encoded data removed]",
      "text/plain": [
       "<Figure size 800x600 with 1 Axes>"
      ]
     },
     "metadata": {},
     "output_type": "display_data"
    }
   ],
   "source": [
    "plt.figure(figsize=(8,6))\n",
    "sns.scatterplot(x='pc1',y=\"pc2\",data=data_scaled,palette='viridis',hue='Cluster')\n",
    "plt.title('Clusterd Data Visualization')\n",
    "plt.xlabel('Principal Component(pc1)')\n",
    "plt.ylabel('Principal Component(pc2)')\n",
    "plt.legend(title='Clusters')"
   ]
  },
  {
   "cell_type": "code",
   "execution_count": 333,
   "id": "b94f29d5-2935-495a-9c23-7dae6385e469",
   "metadata": {},
   "outputs": [
    {
     "data": {
      "text/html": [
       "<div>\n",
       "<style scoped>\n",
       "    .dataframe tbody tr th:only-of-type {\n",
       "        vertical-align: middle;\n",
       "    }\n",
       "\n",
       "    .dataframe tbody tr th {\n",
       "        vertical-align: top;\n",
       "    }\n",
       "\n",
       "    .dataframe thead th {\n",
       "        text-align: right;\n",
       "    }\n",
       "</style>\n",
       "<table border=\"1\" class=\"dataframe\">\n",
       "  <thead>\n",
       "    <tr style=\"text-align: right;\">\n",
       "      <th></th>\n",
       "      <th>Income</th>\n",
       "      <th>MntTotal</th>\n",
       "      <th>In_relationship</th>\n",
       "    </tr>\n",
       "    <tr>\n",
       "      <th>Cluster</th>\n",
       "      <th></th>\n",
       "      <th></th>\n",
       "      <th></th>\n",
       "    </tr>\n",
       "  </thead>\n",
       "  <tbody>\n",
       "    <tr>\n",
       "      <th>0</th>\n",
       "      <td>71818.929329</td>\n",
       "      <td>1147.372792</td>\n",
       "      <td>1.0</td>\n",
       "    </tr>\n",
       "    <tr>\n",
       "      <th>1</th>\n",
       "      <td>37332.339956</td>\n",
       "      <td>150.761589</td>\n",
       "      <td>0.0</td>\n",
       "    </tr>\n",
       "    <tr>\n",
       "      <th>2</th>\n",
       "      <td>37892.819883</td>\n",
       "      <td>158.463158</td>\n",
       "      <td>1.0</td>\n",
       "    </tr>\n",
       "    <tr>\n",
       "      <th>3</th>\n",
       "      <td>71946.155488</td>\n",
       "      <td>1159.612805</td>\n",
       "      <td>0.0</td>\n",
       "    </tr>\n",
       "  </tbody>\n",
       "</table>\n",
       "</div>"
      ],
      "text/plain": [
       "               Income     MntTotal  In_relationship\n",
       "Cluster                                            \n",
       "0        71818.929329  1147.372792              1.0\n",
       "1        37332.339956   150.761589              0.0\n",
       "2        37892.819883   158.463158              1.0\n",
       "3        71946.155488  1159.612805              0.0"
      ]
     },
     "execution_count": 333,
     "metadata": {},
     "output_type": "execute_result"
    }
   ],
   "source": [
    "data['Cluster'] = data_scaled.Cluster\n",
    "data.groupby('Cluster')[cols_for_clustering].mean()"
   ]
  },
  {
   "cell_type": "code",
   "execution_count": 334,
   "id": "0f7c69bf-7403-461b-becc-59c7cdff0821",
   "metadata": {},
   "outputs": [
    {
     "data": {
      "text/html": [
       "<div>\n",
       "<style scoped>\n",
       "    .dataframe tbody tr th:only-of-type {\n",
       "        vertical-align: middle;\n",
       "    }\n",
       "\n",
       "    .dataframe tbody tr th {\n",
       "        vertical-align: top;\n",
       "    }\n",
       "\n",
       "    .dataframe thead th {\n",
       "        text-align: right;\n",
       "    }\n",
       "</style>\n",
       "<table border=\"1\" class=\"dataframe\">\n",
       "  <thead>\n",
       "    <tr style=\"text-align: right;\">\n",
       "      <th></th>\n",
       "      <th>Cluster</th>\n",
       "      <th>MntTotal</th>\n",
       "      <th>MntFishProducts</th>\n",
       "      <th>MntMeatProducts</th>\n",
       "      <th>MntSweetProducts</th>\n",
       "      <th>MntGoldProds</th>\n",
       "      <th>MntRegularProds</th>\n",
       "    </tr>\n",
       "  </thead>\n",
       "  <tbody>\n",
       "    <tr>\n",
       "      <th>0</th>\n",
       "      <td>0</td>\n",
       "      <td>1147.372792</td>\n",
       "      <td>75.577739</td>\n",
       "      <td>341.326855</td>\n",
       "      <td>54.717314</td>\n",
       "      <td>71.093640</td>\n",
       "      <td>1076.279152</td>\n",
       "    </tr>\n",
       "    <tr>\n",
       "      <th>1</th>\n",
       "      <td>1</td>\n",
       "      <td>150.761589</td>\n",
       "      <td>10.971302</td>\n",
       "      <td>38.774834</td>\n",
       "      <td>7.732892</td>\n",
       "      <td>25.099338</td>\n",
       "      <td>125.662252</td>\n",
       "    </tr>\n",
       "    <tr>\n",
       "      <th>2</th>\n",
       "      <td>2</td>\n",
       "      <td>158.463158</td>\n",
       "      <td>11.423392</td>\n",
       "      <td>39.438596</td>\n",
       "      <td>7.913450</td>\n",
       "      <td>24.500585</td>\n",
       "      <td>133.962573</td>\n",
       "    </tr>\n",
       "    <tr>\n",
       "      <th>3</th>\n",
       "      <td>3</td>\n",
       "      <td>1159.612805</td>\n",
       "      <td>77.603659</td>\n",
       "      <td>357.902439</td>\n",
       "      <td>55.314024</td>\n",
       "      <td>74.280488</td>\n",
       "      <td>1085.332317</td>\n",
       "    </tr>\n",
       "  </tbody>\n",
       "</table>\n",
       "</div>"
      ],
      "text/plain": [
       "   Cluster     MntTotal  MntFishProducts  MntMeatProducts  MntSweetProducts  \\\n",
       "0        0  1147.372792        75.577739       341.326855         54.717314   \n",
       "1        1   150.761589        10.971302        38.774834          7.732892   \n",
       "2        2   158.463158        11.423392        39.438596          7.913450   \n",
       "3        3  1159.612805        77.603659       357.902439         55.314024   \n",
       "\n",
       "   MntGoldProds  MntRegularProds  \n",
       "0     71.093640      1076.279152  \n",
       "1     25.099338       125.662252  \n",
       "2     24.500585       133.962573  \n",
       "3     74.280488      1085.332317  "
      ]
     },
     "execution_count": 334,
     "metadata": {},
     "output_type": "execute_result"
    }
   ],
   "source": [
    "mnt_data = data.groupby('Cluster')[cols_mnt].mean().reset_index()\n",
    "mnt_data.head()"
   ]
  },
  {
   "cell_type": "raw",
   "id": "f68a20f3-9144-4e1c-b817-6cc0af466e3c",
   "metadata": {},
   "source": [
    "In data manipulation, melted_data likely refers to a DataFrame that has been reshaped from a wide format to a long format using the pd.melt()"
   ]
  },
  {
   "cell_type": "code",
   "execution_count": 335,
   "id": "943648d2-c65a-4dce-9965-a2b352fff7a0",
   "metadata": {},
   "outputs": [
    {
     "name": "stderr",
     "output_type": "stream",
     "text": [
      "C:\\Users\\vip\\AppData\\Local\\Temp\\ipykernel_1312\\1826437796.py:3: FutureWarning: \n",
      "\n",
      "The `ci` parameter is deprecated. Use `errorbar=None` for the same effect.\n",
      "\n",
      "  sns.barplot(x=\"Cluster\", y=\"Consumption\", hue=\"Product\", data=melted_data, ci=None, palette=\"viridis\")\n"
     ]
    },
    {
     "data": {
      "image/png": "[encoded data removed]",
      "text/plain": [
       "<Figure size 1200x600 with 1 Axes>"
      ]
     },
     "metadata": {},
     "output_type": "display_data"
    }
   ],
   "source": [
    "melted_data = pd.melt(mnt_data, id_vars=\"Cluster\", var_name=\"Product\", value_name=\"Consumption\")\n",
    "plt.figure(figsize=(12, 6))\n",
    "sns.barplot(x=\"Cluster\", y=\"Consumption\", hue=\"Product\", data=melted_data, ci=None, palette=\"viridis\")\n",
    "plt.title(\"Product Consumption by Cluster\")\n",
    "plt.xlabel(\"Cluster\")\n",
    "plt.ylabel(\"Product Consumption\")\n",
    "plt.legend(title=\"Product\")\n",
    "plt.show()"
   ]
  },
  {
   "cell_type": "markdown",
   "id": "3b67a738-1340-411b-bfa3-59cf9f5dd574",
   "metadata": {},
   "source": [
    "## Cluster Sizes "
   ]
  },
  {
   "cell_type": "code",
   "execution_count": 337,
   "id": "7537fc65-a65e-4881-a5c4-1b714a5acb06",
   "metadata": {},
   "outputs": [
    {
     "name": "stderr",
     "output_type": "stream",
     "text": [
      "C:\\Users\\vip\\AppData\\Local\\Temp\\ipykernel_1312\\2308420801.py:3: FutureWarning: \n",
      "\n",
      "Passing `palette` without assigning `hue` is deprecated and will be removed in v0.14.0. Assign the `x` variable to `hue` and set `legend=False` for the same effect.\n",
      "\n",
      "  sns.barplot(x='Cluster',y='MntTotal',data=cluster_sizes,palette = 'viridis')\n"
     ]
    },
    {
     "data": {
      "text/plain": [
       "Text(0, 0.5, 'MntTotal')"
      ]
     },
     "execution_count": 337,
     "metadata": {},
     "output_type": "execute_result"
    },
    {
     "data": {
      "image/png": "[encoded data removed]",
      "text/plain": [
       "<Figure size 800x600 with 1 Axes>"
      ]
     },
     "metadata": {},
     "output_type": "display_data"
    }
   ],
   "source": [
    "cluster_sizes = data.groupby('Cluster')['MntTotal'].count().reset_index()\n",
    "plt.figure(figsize=(8,6))\n",
    "sns.barplot(x='Cluster',y='MntTotal',data=cluster_sizes,palette = 'viridis')\n",
    "plt.title('Cluster Sizes')\n",
    "plt.xlabel('Cluster')\n",
    "plt.ylabel('MntTotal')"
   ]
  },
  {
   "cell_type": "code",
   "execution_count": 338,
   "id": "78077fb8-851e-4bbd-97c2-6029ddcdbce3",
   "metadata": {},
   "outputs": [
    {
     "data": {
      "text/html": [
       "<div>\n",
       "<style scoped>\n",
       "    .dataframe tbody tr th:only-of-type {\n",
       "        vertical-align: middle;\n",
       "    }\n",
       "\n",
       "    .dataframe tbody tr th {\n",
       "        vertical-align: top;\n",
       "    }\n",
       "\n",
       "    .dataframe thead th {\n",
       "        text-align: right;\n",
       "    }\n",
       "</style>\n",
       "<table border=\"1\" class=\"dataframe\">\n",
       "  <thead>\n",
       "    <tr style=\"text-align: right;\">\n",
       "      <th></th>\n",
       "      <th>Cluster</th>\n",
       "      <th>MntTotal</th>\n",
       "      <th>Share%</th>\n",
       "    </tr>\n",
       "  </thead>\n",
       "  <tbody>\n",
       "    <tr>\n",
       "      <th>0</th>\n",
       "      <td>0</td>\n",
       "      <td>566</td>\n",
       "      <td>26.0</td>\n",
       "    </tr>\n",
       "    <tr>\n",
       "      <th>1</th>\n",
       "      <td>1</td>\n",
       "      <td>453</td>\n",
       "      <td>21.0</td>\n",
       "    </tr>\n",
       "    <tr>\n",
       "      <th>2</th>\n",
       "      <td>2</td>\n",
       "      <td>855</td>\n",
       "      <td>39.0</td>\n",
       "    </tr>\n",
       "    <tr>\n",
       "      <th>3</th>\n",
       "      <td>3</td>\n",
       "      <td>328</td>\n",
       "      <td>15.0</td>\n",
       "    </tr>\n",
       "  </tbody>\n",
       "</table>\n",
       "</div>"
      ],
      "text/plain": [
       "   Cluster  MntTotal  Share%\n",
       "0        0       566    26.0\n",
       "1        1       453    21.0\n",
       "2        2       855    39.0\n",
       "3        3       328    15.0"
      ]
     },
     "execution_count": 338,
     "metadata": {},
     "output_type": "execute_result"
    }
   ],
   "source": [
    "total_rows = len(data)\n",
    "cluster_sizes['Share%'] = round(cluster_sizes['MntTotal']/total_rows*100)\n",
    "cluster_sizes.head()"
   ]
  },
  {
   "cell_type": "markdown",
   "id": "19811add-d5df-4907-bf1a-5daf28d2039f",
   "metadata": {},
   "source": [
    "## Income By Cluster"
   ]
  },
  {
   "cell_type": "code",
   "execution_count": 340,
   "id": "94fd6ba3-8bb9-4889-8591-507723763bdd",
   "metadata": {},
   "outputs": [
    {
     "name": "stderr",
     "output_type": "stream",
     "text": [
      "C:\\Users\\vip\\AppData\\Local\\Temp\\ipykernel_1312\\2508334791.py:2: FutureWarning: \n",
      "\n",
      "Passing `palette` without assigning `hue` is deprecated and will be removed in v0.14.0. Assign the `x` variable to `hue` and set `legend=False` for the same effect.\n",
      "\n",
      "  sns.boxplot(x='Cluster',y = 'Income',data=data,palette='viridis')\n"
     ]
    },
    {
     "data": {
      "text/plain": [
       "Text(0, 0.5, 'Income')"
      ]
     },
     "execution_count": 340,
     "metadata": {},
     "output_type": "execute_result"
    },
    {
     "data": {
      "image/png": "[encoded data removed]",
      "text/plain": [
       "<Figure size 800x600 with 1 Axes>"
      ]
     },
     "metadata": {},
     "output_type": "display_data"
    }
   ],
   "source": [
    "plt.figure(figsize=(8,6))\n",
    "sns.boxplot(x='Cluster',y = 'Income',data=data,palette='viridis')\n",
    "plt.title('Income By Cluster')\n",
    "plt.xlabel('Cluster')\n",
    "plt.ylabel('Income')"
   ]
  },
  {
   "cell_type": "markdown",
   "id": "9ff5c5c3-86b2-4a2d-bb66-bed10932ef22",
   "metadata": {},
   "source": [
    "## in_relationship feature by cluster "
   ]
  },
  {
   "cell_type": "code",
   "execution_count": 342,
   "id": "bc72a8dc-594b-490e-8a73-1c17330ed8de",
   "metadata": {},
   "outputs": [
    {
     "name": "stderr",
     "output_type": "stream",
     "text": [
      "C:\\Users\\vip\\AppData\\Local\\Temp\\ipykernel_1312\\2476204706.py:2: FutureWarning: \n",
      "\n",
      "Passing `palette` without assigning `hue` is deprecated and will be removed in v0.14.0. Assign the `x` variable to `hue` and set `legend=False` for the same effect.\n",
      "\n",
      "  sns.barplot(x='Cluster',y='In_relationship',data = data, palette = 'viridis')\n"
     ]
    },
    {
     "data": {
      "text/plain": [
       "Text(0.5, 1.0, 'In_relationship by Cluster')"
      ]
     },
     "execution_count": 342,
     "metadata": {},
     "output_type": "execute_result"
    },
    {
     "data": {
      "image/png": "[encoded data removed]",
      "text/plain": [
       "<Figure size 800x600 with 1 Axes>"
      ]
     },
     "metadata": {},
     "output_type": "display_data"
    }
   ],
   "source": [
    "plt.figure(figsize = (8,6))\n",
    "sns.barplot(x='Cluster',y='In_relationship',data = data, palette = 'viridis')\n",
    "plt.title('In_relationship by Cluster')"
   ]
  },
  {
   "cell_type": "markdown",
   "id": "1c7bd060-9591-4ad6-8314-466678e216fb",
   "metadata": {},
   "source": [
    "## Results "
   ]
  },
  {
   "cell_type": "raw",
   "id": "b6623319-681c-42d1-a605-9a9b516245b8",
   "metadata": {},
   "source": [
    ". This section contains the results of the K-MEans clustering analysis, which aimed to identify distinct customer segment based on the total amount of purchaese they made(MntTotal).\n",
    ". The analysis ustilised 'Income' and 'In_relationship' features."
   ]
  },
  {
   "cell_type": "markdown",
   "id": "571b1df8-390a-464f-8547-02b2616edd9b",
   "metadata": {},
   "source": [
    "## Optimal Number of clusters = 4 "
   ]
  },
  {
   "cell_type": "markdown",
   "id": "90894f1c-81ec-493e-a71a-e864e43d727e",
   "metadata": {},
   "source": [
    "### Cluster Characteristics"
   ]
  },
  {
   "cell_type": "markdown",
   "id": "da0df992-ed42-42c1-8c4b-286fd57f2148",
   "metadata": {},
   "source": [
    "#### Cluster 0: High value customers in realtion(either married or together)\n"
   ]
  },
  {
   "cell_type": "raw",
   "id": "e034ec26-036c-4cac-8772-0dcc5500bd77",
   "metadata": {},
   "source": [
    ". This cluster represents 26% of the customer base.\n",
    ". These Customers have high income and they are in relationship."
   ]
  },
  {
   "cell_type": "markdown",
   "id": "6252c0e4-5777-492f-9ac3-be1d1492cbf2",
   "metadata": {},
   "source": [
    "### Cluster 1: Low Value Income Single Customer"
   ]
  },
  {
   "cell_type": "raw",
   "id": "6a5bd1b9-7692-45be-801b-c544de64dfc9",
   "metadata": {},
   "source": [
    ". This Cluster represent 21% of the Customer base.\n",
    ". These customers have low income and they are single "
   ]
  },
  {
   "cell_type": "markdown",
   "id": "7c42377c-050b-4b67-acb1-20ef709b30a3",
   "metadata": {},
   "source": [
    "### Cluster 2: Low Value Income Customers In Relationship "
   ]
  },
  {
   "cell_type": "raw",
   "id": "c812bb5e-4ee0-4729-90e6-2b9c859f33f0",
   "metadata": {},
   "source": [
    ". This Cluster represnt 39% of the Customer Base \n",
    ". These customers have low income and they in relationship "
   ]
  },
  {
   "cell_type": "markdown",
   "id": "ff02b52e-c89d-4cec-99cf-2995b5fc3b65",
   "metadata": {},
   "source": [
    "### Cluster 3: High Value Income Sinlge Customer "
   ]
  },
  {
   "cell_type": "raw",
   "id": "42082fea-ae56-4e52-b852-76d552dcb726",
   "metadata": {},
   "source": [
    ". This Cluster Represent 15% of the customer base \n",
    ". These Customer have high income and they are single "
   ]
  },
  {
   "cell_type": "markdown",
   "id": "0f3d42d1-0e91-4bfd-bcc8-a2b4e954c686",
   "metadata": {},
   "source": [
    "## Recommendations "
   ]
  },
  {
   "cell_type": "raw",
   "id": "3647881a-e41e-4d3c-b43c-9dcc6cd4698a",
   "metadata": {},
   "source": [
    "Cluster 0: High-Value Customers in a Relationship (26%)\n",
    "\n",
    "✅ Retention Strategies\n",
    ".Implement exclusive loyalty programs to encourage long-term engagement.\n",
    ".Offer premium personalized services, such as tailored recommendations or VIP discounts.\n",
    ".Provide family-oriented promotions (e.g., bundled deals for couples).\n",
    "\n",
    "✅ Marketing Approach\n",
    ".Utilize targeted email campaigns highlighting premium products or experiences.\n",
    ".Create relationship-focused offers, such as couple-based discounts or anniversary rewards."
   ]
  },
  {
   "cell_type": "raw",
   "id": "e734ae18-e9d6-4a5b-bff6-d6619b526a25",
   "metadata": {},
   "source": [
    "Cluster 1: Low-Value Income Single Customers (21%)\n",
    "\n",
    "✅ Engagement Strategies\n",
    ". Introduce budget-friendly promotions, like installment-based payment plans or discounts on entry-level products.\n",
    "\n",
    "✅ Marketing Approach\n",
    "Focus on social media engagement (interactive content, affordable lifestyle tips).\n",
    "Use discounted subscriptions or early-bird deals to encourage purchases."
   ]
  },
  {
   "cell_type": "raw",
   "id": "36c1a3d4-345c-46e6-8657-9819c59e2d92",
   "metadata": {},
   "source": [
    "Cluster 2: Low-Value Income Customers in a Relationship (39%)\n",
    "\n",
    "✅ Upselling Strategies\n",
    ".Provide budget-friendly combo offers (e.g., couple discounts or family-friendly packages).\n",
    ".Introduce price-sensitive financing options for large purchases.\n",
    "\n",
    "✅ Marketing Approach\n",
    ".Implement seasonal promotions (e.g., discounts during holidays or special occasions).\n",
    ".Highlight community-driven products that appeal to households."
   ]
  },
  {
   "cell_type": "raw",
   "id": "f1f44092-dae2-4e8b-ac58-1b545149ba94",
   "metadata": {},
   "source": [
    "Cluster 3: High-Value Income Single Customers (15%)\n",
    "\n",
    "These customers exhibit purchasing patterns similar to Cluster 0, particularly in their preference for wines and fruits. However, they differ in that they are single, meaning their lifestyle and buying habits are more individualistic.\n",
    "\n",
    "✅Marketing Approach:\n",
    "Social & Party-Themed Promotions: Advertisements showcasing gatherings with friends, lively social events, or exclusive party offers may resonate well."
   ]
  },
  {
   "cell_type": "code",
   "execution_count": null,
   "id": "3a60b324-3d10-40fc-9225-0e19e4f197e9",
   "metadata": {},
   "outputs": [],
   "source": []
  }
 ],
 "metadata": {
  "kernelspec": {
   "display_name": "Python [conda env:base] *",
   "language": "python",
   "name": "conda-base-py"
  },
  "language_info": {
   "codemirror_mode": {
    "name": "ipython",
    "version": 3
   },
   "file_extension": ".py",
   "mimetype": "text/x-python",
   "name": "python",
   "nbconvert_exporter": "python",
   "pygments_lexer": "ipython3",
   "version": "3.12.7"
  }
 },
 "nbformat": 4,
 "nbformat_minor": 5
}
